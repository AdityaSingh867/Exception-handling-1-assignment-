{
 "cells": [
  {
   "cell_type": "markdown",
   "id": "f577fd35-a019-4073-8ce0-c88277213a6a",
   "metadata": {},
   "source": [
    "Q1. What is Exception in python? Write the difference between Exceptions and syntax errors ?"
   ]
  },
  {
   "cell_type": "markdown",
   "id": "aae726aa-7801-4c37-8d15-f5ffee6c34f4",
   "metadata": {},
   "source": [
    "An error is an issue in a program that prevents the program from completing its task. In comparison, an exception is a condition that interrupts the normal flow of the program"
   ]
  },
  {
   "cell_type": "markdown",
   "id": "37e3b0b0-4db3-4403-8b34-965445d35ea3",
   "metadata": {},
   "source": [
    "Exception is prevents the program from erro and issue and complete the code."
   ]
  },
  {
   "cell_type": "markdown",
   "id": "7fa27e54-bb04-4dbb-9322-153412f6a6e6",
   "metadata": {},
   "source": [
    "Exception occurs at runtime . Whereas an Errors mostly happen at compile-time like syntax error; however it can happen at runtime as well. "
   ]
  },
  {
   "cell_type": "markdown",
   "id": "a2ef1f82-6a89-4273-a709-91700109acac",
   "metadata": {},
   "source": [
    "Q2. What happens when Exception is not handled? Explain with an example ?"
   ]
  },
  {
   "cell_type": "markdown",
   "id": "5bc7d15e-0daf-46f6-89fa-7cb89eb85e12",
   "metadata": {},
   "source": [
    "If an exception is not caught , the runtime system will abort the program and an exception message will print to the console."
   ]
  },
  {
   "cell_type": "code",
   "execution_count": 25,
   "id": "ba86c332-3ab6-44e0-8783-f92ad104c165",
   "metadata": {},
   "outputs": [
    {
     "name": "stdout",
     "output_type": "stream",
     "text": [
      "this is my first line [Errno 2] No such file or directory: 'adityasingh.txt'\n"
     ]
    }
   ],
   "source": [
    "try :\n",
    "    file = open('adityasingh.txt' , 'r')\n",
    "except Exception as aditya :\n",
    "    print('this is my first line' , aditya)"
   ]
  },
  {
   "cell_type": "markdown",
   "id": "75b8a8b7-dbfa-4c7a-a3eb-0ec3ae900d66",
   "metadata": {},
   "source": [
    "Q3. Which Python statement is used to catch and handle exceptions ? Explane with an example ?"
   ]
  },
  {
   "cell_type": "markdown",
   "id": "fc584f69-66dc-4969-89c3-3c985ed5b3bc",
   "metadata": {},
   "source": [
    "try and except is used to catch and handle exceptions."
   ]
  },
  {
   "cell_type": "code",
   "execution_count": 26,
   "id": "e7503e6c-97de-4111-b515-16d5c9ed2e4b",
   "metadata": {},
   "outputs": [],
   "source": [
    "try :\n",
    "    file = open('adityasingh.txt' , 'w')\n",
    "    file.write('hello my namw is aditya singh')\n",
    "except Exception as aditya :\n",
    "    print('this is my first line' , aditya)"
   ]
  },
  {
   "cell_type": "raw",
   "id": "98a227b9-edbd-413a-8d39-2465f756434f",
   "metadata": {},
   "source": [
    "Q4 Explane with an example ?\n",
    "a - try and else\n",
    "b - finally\n",
    "c - raise"
   ]
  },
  {
   "cell_type": "code",
   "execution_count": 4,
   "id": "d6b570d8-0a52-4407-9565-505aca086daa",
   "metadata": {},
   "outputs": [
    {
     "ename": "FileNotFoundError",
     "evalue": "[Errno 2] No such file or directory: 'abcd.txt'",
     "output_type": "error",
     "traceback": [
      "\u001b[0;31m---------------------------------------------------------------------------\u001b[0m",
      "\u001b[0;31mFileNotFoundError\u001b[0m                         Traceback (most recent call last)",
      "Cell \u001b[0;32mIn[4], line 1\u001b[0m\n\u001b[0;32m----> 1\u001b[0m file \u001b[38;5;241m=\u001b[39m \u001b[38;5;28;43mopen\u001b[39;49m\u001b[43m(\u001b[49m\u001b[38;5;124;43m'\u001b[39;49m\u001b[38;5;124;43mabcd.txt\u001b[39;49m\u001b[38;5;124;43m'\u001b[39;49m\u001b[43m \u001b[49m\u001b[43m,\u001b[49m\u001b[43m \u001b[49m\u001b[38;5;124;43m'\u001b[39;49m\u001b[38;5;124;43mr\u001b[39;49m\u001b[38;5;124;43m'\u001b[39;49m\u001b[43m)\u001b[49m\n\u001b[1;32m      2\u001b[0m \u001b[38;5;28mprint\u001b[39m(\u001b[38;5;124m'\u001b[39m\u001b[38;5;124mthis is my first line\u001b[39m\u001b[38;5;124m'\u001b[39m)\n",
      "File \u001b[0;32m/opt/conda/lib/python3.10/site-packages/IPython/core/interactiveshell.py:282\u001b[0m, in \u001b[0;36m_modified_open\u001b[0;34m(file, *args, **kwargs)\u001b[0m\n\u001b[1;32m    275\u001b[0m \u001b[38;5;28;01mif\u001b[39;00m file \u001b[38;5;129;01min\u001b[39;00m {\u001b[38;5;241m0\u001b[39m, \u001b[38;5;241m1\u001b[39m, \u001b[38;5;241m2\u001b[39m}:\n\u001b[1;32m    276\u001b[0m     \u001b[38;5;28;01mraise\u001b[39;00m \u001b[38;5;167;01mValueError\u001b[39;00m(\n\u001b[1;32m    277\u001b[0m         \u001b[38;5;124mf\u001b[39m\u001b[38;5;124m\"\u001b[39m\u001b[38;5;124mIPython won\u001b[39m\u001b[38;5;124m'\u001b[39m\u001b[38;5;124mt let you open fd=\u001b[39m\u001b[38;5;132;01m{\u001b[39;00mfile\u001b[38;5;132;01m}\u001b[39;00m\u001b[38;5;124m by default \u001b[39m\u001b[38;5;124m\"\u001b[39m\n\u001b[1;32m    278\u001b[0m         \u001b[38;5;124m\"\u001b[39m\u001b[38;5;124mas it is likely to crash IPython. If you know what you are doing, \u001b[39m\u001b[38;5;124m\"\u001b[39m\n\u001b[1;32m    279\u001b[0m         \u001b[38;5;124m\"\u001b[39m\u001b[38;5;124myou can use builtins\u001b[39m\u001b[38;5;124m'\u001b[39m\u001b[38;5;124m open.\u001b[39m\u001b[38;5;124m\"\u001b[39m\n\u001b[1;32m    280\u001b[0m     )\n\u001b[0;32m--> 282\u001b[0m \u001b[38;5;28;01mreturn\u001b[39;00m \u001b[43mio_open\u001b[49m\u001b[43m(\u001b[49m\u001b[43mfile\u001b[49m\u001b[43m,\u001b[49m\u001b[43m \u001b[49m\u001b[38;5;241;43m*\u001b[39;49m\u001b[43margs\u001b[49m\u001b[43m,\u001b[49m\u001b[43m \u001b[49m\u001b[38;5;241;43m*\u001b[39;49m\u001b[38;5;241;43m*\u001b[39;49m\u001b[43mkwargs\u001b[49m\u001b[43m)\u001b[49m\n",
      "\u001b[0;31mFileNotFoundError\u001b[0m: [Errno 2] No such file or directory: 'abcd.txt'"
     ]
    }
   ],
   "source": [
    "file = open('abcd.txt' , 'r')\n",
    "print('this is my first line')"
   ]
  },
  {
   "cell_type": "code",
   "execution_count": 5,
   "id": "5459fda5-455c-49b5-859d-d847e6f9f0d7",
   "metadata": {},
   "outputs": [
    {
     "name": "stdout",
     "output_type": "stream",
     "text": [
      "this is my first line [Errno 2] No such file or directory: 'abcd.txt'\n"
     ]
    }
   ],
   "source": [
    "try :\n",
    "    file = open('abcd.txt' , 'r')\n",
    "except Exception as aditya :\n",
    "    print('this is my first line' , aditya)"
   ]
  },
  {
   "cell_type": "code",
   "execution_count": 6,
   "id": "e9b96e47-b5fd-4089-9e70-0ba0252d88a9",
   "metadata": {},
   "outputs": [
    {
     "name": "stdout",
     "output_type": "stream",
     "text": [
      "else print when try execute without any error\n"
     ]
    }
   ],
   "source": [
    "try :\n",
    "    file = open('abcd.txt' , 'w')\n",
    "    file.write('this is my file in write mode')\n",
    "    file.close()\n",
    "except Exception as s :\n",
    "    print('this is my first line' , s)\n",
    "else :\n",
    "    print('else print when try execute without any error')"
   ]
  },
  {
   "cell_type": "code",
   "execution_count": 13,
   "id": "77bcac2d-1203-4bc5-9eeb-28ae96fc16bb",
   "metadata": {},
   "outputs": [
    {
     "name": "stdout",
     "output_type": "stream",
     "text": [
      "finally it will be printed whether the error comes or not\n"
     ]
    },
    {
     "ename": "FileNotFoundError",
     "evalue": "[Errno 2] No such file or directory: 'abcd5671.txt'",
     "output_type": "error",
     "traceback": [
      "\u001b[0;31m---------------------------------------------------------------------------\u001b[0m",
      "\u001b[0;31mFileNotFoundError\u001b[0m                         Traceback (most recent call last)",
      "Cell \u001b[0;32mIn[13], line 2\u001b[0m\n\u001b[1;32m      1\u001b[0m \u001b[38;5;28;01mtry\u001b[39;00m :\n\u001b[0;32m----> 2\u001b[0m     file \u001b[38;5;241m=\u001b[39m \u001b[38;5;28;43mopen\u001b[39;49m\u001b[43m(\u001b[49m\u001b[38;5;124;43m'\u001b[39;49m\u001b[38;5;124;43mabcd5671.txt\u001b[39;49m\u001b[38;5;124;43m'\u001b[39;49m\u001b[43m \u001b[49m\u001b[43m,\u001b[49m\u001b[43m \u001b[49m\u001b[38;5;124;43m'\u001b[39;49m\u001b[38;5;124;43mr\u001b[39;49m\u001b[38;5;124;43m'\u001b[39;49m\u001b[43m)\u001b[49m\n\u001b[1;32m      3\u001b[0m     file\u001b[38;5;241m.\u001b[39mwrite(\u001b[38;5;124m'\u001b[39m\u001b[38;5;124mthis is my file in write mode\u001b[39m\u001b[38;5;124m'\u001b[39m)\n\u001b[1;32m      4\u001b[0m     file\u001b[38;5;241m.\u001b[39mclose()\n",
      "File \u001b[0;32m/opt/conda/lib/python3.10/site-packages/IPython/core/interactiveshell.py:282\u001b[0m, in \u001b[0;36m_modified_open\u001b[0;34m(file, *args, **kwargs)\u001b[0m\n\u001b[1;32m    275\u001b[0m \u001b[38;5;28;01mif\u001b[39;00m file \u001b[38;5;129;01min\u001b[39;00m {\u001b[38;5;241m0\u001b[39m, \u001b[38;5;241m1\u001b[39m, \u001b[38;5;241m2\u001b[39m}:\n\u001b[1;32m    276\u001b[0m     \u001b[38;5;28;01mraise\u001b[39;00m \u001b[38;5;167;01mValueError\u001b[39;00m(\n\u001b[1;32m    277\u001b[0m         \u001b[38;5;124mf\u001b[39m\u001b[38;5;124m\"\u001b[39m\u001b[38;5;124mIPython won\u001b[39m\u001b[38;5;124m'\u001b[39m\u001b[38;5;124mt let you open fd=\u001b[39m\u001b[38;5;132;01m{\u001b[39;00mfile\u001b[38;5;132;01m}\u001b[39;00m\u001b[38;5;124m by default \u001b[39m\u001b[38;5;124m\"\u001b[39m\n\u001b[1;32m    278\u001b[0m         \u001b[38;5;124m\"\u001b[39m\u001b[38;5;124mas it is likely to crash IPython. If you know what you are doing, \u001b[39m\u001b[38;5;124m\"\u001b[39m\n\u001b[1;32m    279\u001b[0m         \u001b[38;5;124m\"\u001b[39m\u001b[38;5;124myou can use builtins\u001b[39m\u001b[38;5;124m'\u001b[39m\u001b[38;5;124m open.\u001b[39m\u001b[38;5;124m\"\u001b[39m\n\u001b[1;32m    280\u001b[0m     )\n\u001b[0;32m--> 282\u001b[0m \u001b[38;5;28;01mreturn\u001b[39;00m \u001b[43mio_open\u001b[49m\u001b[43m(\u001b[49m\u001b[43mfile\u001b[49m\u001b[43m,\u001b[49m\u001b[43m \u001b[49m\u001b[38;5;241;43m*\u001b[39;49m\u001b[43margs\u001b[49m\u001b[43m,\u001b[49m\u001b[43m \u001b[49m\u001b[38;5;241;43m*\u001b[39;49m\u001b[38;5;241;43m*\u001b[39;49m\u001b[43mkwargs\u001b[49m\u001b[43m)\u001b[49m\n",
      "\u001b[0;31mFileNotFoundError\u001b[0m: [Errno 2] No such file or directory: 'abcd5671.txt'"
     ]
    }
   ],
   "source": [
    "try :\n",
    "    file = open('abcd5671.txt' , 'r')\n",
    "    file.write('this is my file in write mode')\n",
    "    file.close()\n",
    "finally :\n",
    "    print('finally it will be printed whether the error comes or not')"
   ]
  },
  {
   "cell_type": "code",
   "execution_count": 15,
   "id": "31ae0812-678a-4368-9069-03bdda3f2686",
   "metadata": {},
   "outputs": [
    {
     "name": "stdin",
     "output_type": "stream",
     "text": [
      "enter your number 3456\n"
     ]
    }
   ],
   "source": [
    "number = int(input('enter your number'))"
   ]
  },
  {
   "cell_type": "code",
   "execution_count": 16,
   "id": "fed63959-e26a-45f7-8338-c7f69dbc1432",
   "metadata": {},
   "outputs": [],
   "source": [
    "class hello(Exception):\n",
    "    def __init__(self , price):\n",
    "        self.price  = price"
   ]
  },
  {
   "cell_type": "code",
   "execution_count": 22,
   "id": "681f2b47-eb7a-4cc5-8291-1fc7c67f5df6",
   "metadata": {},
   "outputs": [],
   "source": [
    "def hello1(number):\n",
    "    if number < 0 :\n",
    "        raise hello('it is negative number')\n",
    "    elif number < 100000 :\n",
    "        raise hello('it is positive number')\n",
    "    elif number > 2000000 :\n",
    "        raise hello('it is positive number')\n",
    "    else :\n",
    "        print('it is positive number')"
   ]
  },
  {
   "cell_type": "code",
   "execution_count": 23,
   "id": "207a699c-da30-4423-bcc7-ccb8fff61266",
   "metadata": {},
   "outputs": [
    {
     "name": "stdin",
     "output_type": "stream",
     "text": [
      "enter your number 3456789\n"
     ]
    },
    {
     "name": "stdout",
     "output_type": "stream",
     "text": [
      "it is positive number\n"
     ]
    }
   ],
   "source": [
    "try :\n",
    "    number = int(input('enter your number'))\n",
    "    hello1(number)\n",
    "except hello as aditya :\n",
    "    print(aditya)"
   ]
  },
  {
   "cell_type": "markdown",
   "id": "cf802e48-fb8f-4e20-a96d-2f981f009ee1",
   "metadata": {},
   "source": [
    "raise connect to Exception"
   ]
  },
  {
   "cell_type": "markdown",
   "id": "c7a3bee6-982b-4a68-836e-c25a96a398eb",
   "metadata": {},
   "source": [
    "Q6. Create a custom exeption class. Use this class to handle an exception ?"
   ]
  },
  {
   "cell_type": "code",
   "execution_count": 1,
   "id": "a2acd126-8b03-4b19-a66d-d2f14f8aa817",
   "metadata": {},
   "outputs": [
    {
     "name": "stdin",
     "output_type": "stream",
     "text": [
      "enter your car price 456789\n"
     ]
    }
   ],
   "source": [
    "car_price = int(input('enter your car price'))"
   ]
  },
  {
   "cell_type": "code",
   "execution_count": 4,
   "id": "bb571fa6-dafa-4b26-a6af-dbc070402003",
   "metadata": {},
   "outputs": [],
   "source": [
    "class car(Exception):\n",
    "    def __init__(self , price):\n",
    "        self.price  = price    "
   ]
  },
  {
   "cell_type": "code",
   "execution_count": 9,
   "id": "5dd5238a-52df-421c-8685-b4bd1416fb51",
   "metadata": {},
   "outputs": [],
   "source": [
    "def car_price_(car_price):\n",
    "    if car_price < 0 :\n",
    "        raise car('car not be negative please entre right price ')\n",
    "    elif car_price < 100000 :\n",
    "        raise car('car price is low')\n",
    "    elif car_price > 2000000 :\n",
    "        raise car('car price is very very good')\n",
    "    else :\n",
    "        print('car price is good')"
   ]
  },
  {
   "cell_type": "code",
   "execution_count": 12,
   "id": "e7feb4fc-2d12-47da-8f51-f84af8a76c15",
   "metadata": {},
   "outputs": [
    {
     "name": "stdin",
     "output_type": "stream",
     "text": [
      "enter your car price 234567876543234567\n"
     ]
    },
    {
     "name": "stdout",
     "output_type": "stream",
     "text": [
      "car price is very very good\n"
     ]
    }
   ],
   "source": [
    "try :\n",
    "    car_price = int(input('enter your car price'))\n",
    "    car_price_(car_price)\n",
    "except car as aditya :\n",
    "    print(aditya)"
   ]
  },
  {
   "cell_type": "markdown",
   "id": "eeb43526-0af3-41f1-98a3-46344022e541",
   "metadata": {},
   "source": [
    "Q5. What are the Custom Exceptions in python? Why do we need Custom Exceptions? Explain with an example."
   ]
  },
  {
   "cell_type": "markdown",
   "id": "38cdc7fc-f78e-48b9-b570-bf2bb5db24b8",
   "metadata": {},
   "source": [
    "there is no exception for negative age.\n",
    "so , for nagetive age vwe creat coustum exeption not only age it can be any thing.\n",
    "so , basically if there is no exception for few thing that we want than we creat own coustom exception.\n",
    "EXAMPLE : -- negative age coustom exception."
   ]
  },
  {
   "cell_type": "code",
   "execution_count": 14,
   "id": "e73bdb78-0464-4d57-8f92-285c80201ceb",
   "metadata": {},
   "outputs": [
    {
     "name": "stdin",
     "output_type": "stream",
     "text": [
      "enter your age -65\n"
     ]
    }
   ],
   "source": [
    "age = int(input('enter your age'))"
   ]
  },
  {
   "cell_type": "code",
   "execution_count": 15,
   "id": "2ba17959-0551-44eb-9ed7-72971edee80e",
   "metadata": {},
   "outputs": [],
   "source": [
    "class age1(Exception):\n",
    "    def __init__(self , age):\n",
    "        self.age = age"
   ]
  },
  {
   "cell_type": "code",
   "execution_count": 16,
   "id": "48c46552-a335-4c0e-9fac-6c0b7f8ad512",
   "metadata": {},
   "outputs": [],
   "source": [
    "def your_age(age):\n",
    "    if age < 0:\n",
    "        raise age1(\"age can't be nagetive so , please right age\")\n",
    "    elif age > 122 :\n",
    "        raise age1('age is very high please enter right age')\n",
    "    else :\n",
    "        print('entered age is correct')"
   ]
  },
  {
   "cell_type": "code",
   "execution_count": 17,
   "id": "94886331-5826-4404-b15b-271534b48052",
   "metadata": {},
   "outputs": [
    {
     "name": "stdin",
     "output_type": "stream",
     "text": [
      "enter your age -78666\n"
     ]
    },
    {
     "name": "stdout",
     "output_type": "stream",
     "text": [
      "age can't be nagetive so , please right age\n"
     ]
    }
   ],
   "source": [
    "try :\n",
    "    age = int(input('enter your age'))\n",
    "    your_age(age)\n",
    "except age1 as w :\n",
    "    print(w)"
   ]
  },
  {
   "cell_type": "code",
   "execution_count": null,
   "id": "1174f46c-8fd6-4a69-ace2-5ee819dbf830",
   "metadata": {},
   "outputs": [],
   "source": []
  }
 ],
 "metadata": {
  "kernelspec": {
   "display_name": "Python 3 (ipykernel)",
   "language": "python",
   "name": "python3"
  },
  "language_info": {
   "codemirror_mode": {
    "name": "ipython",
    "version": 3
   },
   "file_extension": ".py",
   "mimetype": "text/x-python",
   "name": "python",
   "nbconvert_exporter": "python",
   "pygments_lexer": "ipython3",
   "version": "3.10.8"
  }
 },
 "nbformat": 4,
 "nbformat_minor": 5
}
